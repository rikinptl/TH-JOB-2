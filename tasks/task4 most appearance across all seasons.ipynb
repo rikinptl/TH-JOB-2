{
 "cells": [
  {
   "cell_type": "code",
   "execution_count": 110,
   "id": "03c3f907",
   "metadata": {},
   "outputs": [
    {
     "name": "stderr",
     "output_type": "stream",
     "text": [
      "                                                                                \r"
     ]
    }
   ],
   "source": [
    "from pyspark.sql import SparkSession\n",
    "from pyspark.sql.functions import *\n",
    "\n",
    "spark = SparkSession.builder\\\n",
    "                    .appName('task-4')\\\n",
    "                    .getOrCreate()\n",
    "\n",
    "df = spark.read.format('org.apache.spark.sql.json')\\\n",
    "                .option(\"recursiveFileLookup\",\"true\")\\\n",
    "                .option(\"header\",'true')\\\n",
    "                .load('/Users/rikinpatel/open-data-master/data/matches/',multiline = True)"
   ]
  },
  {
   "cell_type": "code",
   "execution_count": 121,
   "id": "225843c6",
   "metadata": {},
   "outputs": [
    {
     "name": "stdout",
     "output_type": "stream",
     "text": [
      "Barcelona had the most number of appearances across all seasons : : 455\n"
     ]
    }
   ],
   "source": [
    "occurences = df.select('home_team.home_team_name','away_team.away_team_name','season.season_name')\n",
    "\n",
    "occurences = occurences.drop('away_team_name')\\\n",
    "                       .union(occurences\\\n",
    "                       .select('away_team_name','season_name'))\\\n",
    "                       .withColumnRenamed('home_team_name','Teams')\n",
    "\n",
    "result = occurences.groupBy('Teams')\\\n",
    "                       .agg(count('season_name'))\\\n",
    "                       .orderBy('count(season_name)',ascending= False)\n",
    "\n",
    "print('{} had the most number of appearances across all seasons :'.format(result.collect()[0][0]),':',result.collect()[0][1])"
   ]
  },
  {
   "cell_type": "code",
   "execution_count": 122,
   "id": "4e732477",
   "metadata": {},
   "outputs": [
    {
     "name": "stdout",
     "output_type": "stream",
     "text": [
      "0 teams appeared in each and every season!\n"
     ]
    }
   ],
   "source": [
    "occurences = occurences.crosstab('Teams','season_name')\n",
    "\n",
    "for cols in occurences.columns :\n",
    "    occurences = occurences.filter(col(cols) != 0)\n",
    "\n",
    "print('{} teams appeared in each and every season!'.format(occurences.count()))"
   ]
  }
 ],
 "metadata": {
  "kernelspec": {
   "display_name": "Python 3 (ipykernel)",
   "language": "python",
   "name": "python3"
  },
  "language_info": {
   "codemirror_mode": {
    "name": "ipython",
    "version": 3
   },
   "file_extension": ".py",
   "mimetype": "text/x-python",
   "name": "python",
   "nbconvert_exporter": "python",
   "pygments_lexer": "ipython3",
   "version": "3.9.13"
  }
 },
 "nbformat": 4,
 "nbformat_minor": 5
}
