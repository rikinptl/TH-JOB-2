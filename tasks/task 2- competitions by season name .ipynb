{
 "cells": [
  {
   "cell_type": "code",
   "execution_count": 40,
   "id": "87fe7411",
   "metadata": {},
   "outputs": [],
   "source": [
    "from pyspark.sql import SparkSession\n",
    "from pyspark.sql.functions import *\n",
    "\n",
    "spark = SparkSession.builder\\\n",
    "                    .appName('task-2')\\\n",
    "                    .getOrCreate()\n",
    "\n",
    "df = spark.read.format('org.apache.spark.sql.json').load('/Users/rikinpatel/open-data-master/data/competitions.json',multiline = True)"
   ]
  },
  {
   "cell_type": "code",
   "execution_count": 66,
   "id": "99caab96",
   "metadata": {},
   "outputs": [
    {
     "name": "stdout",
     "output_type": "stream",
     "text": [
      "+---------+-------------------+\n",
      "|   season|No. of Competitions|\n",
      "+---------+-------------------+\n",
      "|2016/2017|                  2|\n",
      "|2004/2005|                  2|\n",
      "|     2019|                  1|\n",
      "|2003/2004|                  2|\n",
      "|2015/2016|                  2|\n",
      "|1999/2000|                  1|\n",
      "|     2018|                  2|\n",
      "|2012/2013|                  2|\n",
      "|2019/2020|                  1|\n",
      "|2010/2011|                  2|\n",
      "|2005/2006|                  1|\n",
      "|2017/2018|                  2|\n",
      "|2007/2008|                  1|\n",
      "|2006/2007|                  2|\n",
      "|2014/2015|                  2|\n",
      "|2008/2009|                  2|\n",
      "|2013/2014|                  2|\n",
      "|2011/2012|                  2|\n",
      "|2009/2010|                  2|\n",
      "|2018/2019|                  3|\n",
      "+---------+-------------------+\n",
      "\n"
     ]
    }
   ],
   "source": [
    "matches = df.withColumn('competition',col('competition_name'))\\\n",
    ".withColumn('season',col('season_name'))\\\n",
    ".select('competition','season')\n",
    "\n",
    "matches.groupBy('season').count().withColumnRenamed('count','No. of Competitions').show()"
   ]
  }
 ],
 "metadata": {
  "kernelspec": {
   "display_name": "Python 3 (ipykernel)",
   "language": "python",
   "name": "python3"
  },
  "language_info": {
   "codemirror_mode": {
    "name": "ipython",
    "version": 3
   },
   "file_extension": ".py",
   "mimetype": "text/x-python",
   "name": "python",
   "nbconvert_exporter": "python",
   "pygments_lexer": "ipython3",
   "version": "3.9.13"
  }
 },
 "nbformat": 4,
 "nbformat_minor": 5
}
