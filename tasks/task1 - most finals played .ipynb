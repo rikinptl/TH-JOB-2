{
 "cells": [
  {
   "cell_type": "code",
   "execution_count": 75,
   "id": "57d62608",
   "metadata": {},
   "outputs": [
    {
     "name": "stderr",
     "output_type": "stream",
     "text": [
      "                                                                                \r"
     ]
    }
   ],
   "source": [
    "from pyspark.sql import SparkSession\n",
    "from pyspark.sql.functions import *\n",
    "\n",
    "spark = SparkSession.builder\\\n",
    "                    .appName('task-1')\\\n",
    "                    .getOrCreate()\n",
    "\n",
    "df = spark.read.format('org.apache.spark.sql.json')\\\n",
    "                .option(\"recursiveFileLookup\",\"true\")\\\n",
    "                .option(\"header\",'true')\\\n",
    "                .load('/Users/rikinpatel/open-data-master/data/matches/',multiline = True)"
   ]
  },
  {
   "cell_type": "code",
   "execution_count": 84,
   "id": "81cff482",
   "metadata": {},
   "outputs": [
    {
     "name": "stdout",
     "output_type": "stream",
     "text": [
      "The most number of finals were played by Liverpool : 4\n"
     ]
    }
   ],
   "source": [
    "matches = df.select('home_team.home_team_name','away_team.away_team_name','competition_stage.id')\n",
    "\n",
    "matches = matches.filter(col('id')\\\n",
    "                    .contains(12 and 13 and 14 and 23 and 26))\n",
    "\n",
    "matches = matches.groupBy(\"home_team_name\").count()\\\n",
    "                 .union(matches.groupBy(\"away_team_name\").count())\\\n",
    "                 .orderBy('count',ascending=False)\n",
    "\n",
    "print('The most number of finals were played by {}'.format(matches.collect()[0][0]),':',matches.collect()[0][1])"
   ]
  }
 ],
 "metadata": {
  "kernelspec": {
   "display_name": "Python 3 (ipykernel)",
   "language": "python",
   "name": "python3"
  },
  "language_info": {
   "codemirror_mode": {
    "name": "ipython",
    "version": 3
   },
   "file_extension": ".py",
   "mimetype": "text/x-python",
   "name": "python",
   "nbconvert_exporter": "python",
   "pygments_lexer": "ipython3",
   "version": "3.9.13"
  }
 },
 "nbformat": 4,
 "nbformat_minor": 5
}
