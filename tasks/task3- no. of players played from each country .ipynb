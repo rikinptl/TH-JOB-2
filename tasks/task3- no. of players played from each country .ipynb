{
 "cells": [
  {
   "cell_type": "code",
   "execution_count": 6,
   "id": "a76852d7",
   "metadata": {},
   "outputs": [
    {
     "name": "stderr",
     "output_type": "stream",
     "text": [
      "                                                                                \r"
     ]
    }
   ],
   "source": [
    "from pyspark.sql import SparkSession\n",
    "from pyspark.sql.functions import *\n",
    "\n",
    "spark = SparkSession.builder\\\n",
    "                    .appName('task-3')\\\n",
    "                    .getOrCreate()\n",
    "\n",
    "df = spark.read.format('org.apache.spark.sql.json')\\\n",
    "                .option(\"recursiveFileLookup\",\"true\")\\\n",
    "                .option(\"header\",'true')\\\n",
    "                .load('/Users/rikinpatel/open-data-master/data/lineups/',multiline = True)"
   ]
  },
  {
   "cell_type": "code",
   "execution_count": 47,
   "id": "9798d840",
   "metadata": {},
   "outputs": [
    {
     "name": "stdout",
     "output_type": "stream",
     "text": [
      "root\n",
      " |-- lineup: array (nullable = true)\n",
      " |    |-- element: struct (containsNull = true)\n",
      " |    |    |-- country: struct (nullable = true)\n",
      " |    |    |    |-- id: long (nullable = true)\n",
      " |    |    |    |-- name: string (nullable = true)\n",
      " |    |    |-- jersey_number: long (nullable = true)\n",
      " |    |    |-- player_id: long (nullable = true)\n",
      " |    |    |-- player_name: string (nullable = true)\n",
      " |    |    |-- player_nickname: string (nullable = true)\n",
      " |-- team_id: long (nullable = true)\n",
      " |-- team_name: string (nullable = true)\n",
      "\n"
     ]
    },
    {
     "data": {
      "text/plain": [
       "1710"
      ]
     },
     "execution_count": 47,
     "metadata": {},
     "output_type": "execute_result"
    }
   ],
   "source": [
    "df.printSchema()\n",
    "df.count()"
   ]
  },
  {
   "cell_type": "code",
   "execution_count": 66,
   "id": "007cf9c9",
   "metadata": {},
   "outputs": [
    {
     "name": "stdout",
     "output_type": "stream",
     "text": [
      "+--------------------+--------------+\n",
      "|             Country|No. of Players|\n",
      "+--------------------+--------------+\n",
      "|               Spain|          7061|\n",
      "|             England|          3832|\n",
      "|              Brazil|          1452|\n",
      "|           Argentina|          1271|\n",
      "|United States of ...|          1153|\n",
      "|              France|          1111|\n",
      "|         Netherlands|           621|\n",
      "|            Scotland|           561|\n",
      "|            Portugal|           506|\n",
      "|             Germany|           493|\n",
      "|             Uruguay|           429|\n",
      "|              Sweden|           414|\n",
      "|               Wales|           393|\n",
      "|             Ireland|           343|\n",
      "|             Croatia|           336|\n",
      "|               Chile|           280|\n",
      "|             Belgium|           265|\n",
      "|               Italy|           256|\n",
      "|              Mexico|           249|\n",
      "|            Cameroon|           240|\n",
      "+--------------------+--------------+\n",
      "only showing top 20 rows\n",
      "\n"
     ]
    }
   ],
   "source": [
    "players = df.select(explode('lineup')).alias('lineup')\\\n",
    "            .select('lineup.col.player_name','lineup.col.country.name')\\\n",
    "            .groupBy('name').count().orderBy('count', ascending = False)\\\n",
    "            .withColumnRenamed('name','Country').withColumnRenamed('count','No. of Players').show()\n",
    "\n",
    "\n"
   ]
  }
 ],
 "metadata": {
  "kernelspec": {
   "display_name": "Python 3 (ipykernel)",
   "language": "python",
   "name": "python3"
  },
  "language_info": {
   "codemirror_mode": {
    "name": "ipython",
    "version": 3
   },
   "file_extension": ".py",
   "mimetype": "text/x-python",
   "name": "python",
   "nbconvert_exporter": "python",
   "pygments_lexer": "ipython3",
   "version": "3.9.13"
  }
 },
 "nbformat": 4,
 "nbformat_minor": 5
}
